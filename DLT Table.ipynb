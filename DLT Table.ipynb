{
 "cells": [
  {
   "cell_type": "code",
   "execution_count": 0,
   "metadata": {
    "application/vnd.databricks.v1+cell": {
     "cellMetadata": {},
     "inputWidgets": {},
     "nuid": "c4dc0294-b914-48df-98ea-4f0319af6052",
     "showTitle": false,
     "tableResultSettingsMap": {},
     "title": ""
    }
   },
   "outputs": [],
   "source": [
    "look_tables_rules={\n",
    "    \"rule-1\":\"showid is NOT NULL\"\n",
    "}"
   ]
  },
  {
   "cell_type": "code",
   "execution_count": 0,
   "metadata": {
    "application/vnd.databricks.v1+cell": {
     "cellMetadata": {},
     "inputWidgets": {},
     "nuid": "3754f36a-4ded-4d34-9681-f2f0f8d8c492",
     "showTitle": false,
     "tableResultSettingsMap": {},
     "title": ""
    }
   },
   "outputs": [],
   "source": [
    "@dlt.table(\n",
    "    name=\"gold_netflixdirectors\"\n",
    ")\n",
    "@dlt.expect_all_or_drop(look_tables_rules[\"rule-1\"])\n",
    "def myfunc():\n",
    "    df=spark.readStream.format(\"delta\").load(\"abfss://silver@netflixproject306.dfs.core.windows.net/netflix_directors\")\n",
    "    return df"
   ]
  },
  {
   "cell_type": "code",
   "execution_count": 0,
   "metadata": {
    "application/vnd.databricks.v1+cell": {
     "cellMetadata": {},
     "inputWidgets": {},
     "nuid": "30596408-42e3-4d16-9c37-3ca81f13d523",
     "showTitle": false,
     "tableResultSettingsMap": {},
     "title": ""
    }
   },
   "outputs": [],
   "source": [
    "@dlt.table(\n",
    "    name=\"gold_netflix_cast\"\n",
    ")\n",
    "@dlt.expect_all_or_drop(look_tables_rules[\"rule-1\"])\n",
    "def myfunc():\n",
    "    df=spark.readStream.format(\"delta\").load(\"abfss://silver@netflixproject306.dfs.core.windows.net/netflix_cast\")\n",
    "    return df"
   ]
  },
  {
   "cell_type": "code",
   "execution_count": 0,
   "metadata": {
    "application/vnd.databricks.v1+cell": {
     "cellMetadata": {},
     "inputWidgets": {},
     "nuid": "cc25e52a-3162-4dce-9875-5dfe93791037",
     "showTitle": false,
     "tableResultSettingsMap": {},
     "title": ""
    }
   },
   "outputs": [],
   "source": [
    "@dlt.table(\n",
    "    name=\"gold_netflix_countries\"\n",
    ")\n",
    "@dlt.expect_all_or_drop(look_tables_rules[\"rule-1\"])\n",
    "def myfunc():\n",
    "    df=spark.readStream.format(\"delta\").load(\"abfss://silver@netflixproject306.dfs.core.windows.net/netflix_countries\")\n",
    "    return df"
   ]
  },
  {
   "cell_type": "code",
   "execution_count": 0,
   "metadata": {
    "application/vnd.databricks.v1+cell": {
     "cellMetadata": {},
     "inputWidgets": {},
     "nuid": "b85b3a73-d100-4268-8cdd-bf7f5a1ef088",
     "showTitle": false,
     "tableResultSettingsMap": {},
     "title": ""
    }
   },
   "outputs": [],
   "source": [
    "@dlt.table(\n",
    "    name=\"gold_netflix_category\"\n",
    ")\n",
    "@dlt.expect_all_or_drop(look_tables_rules[\"rule-1\"])\n",
    "def myfunc():\n",
    "    df=spark.readStream.format(\"delta\").load(\"abfss://silver@netflixproject306.dfs.core.windows.net/netflix_category\")\n",
    "    return df"
   ]
  },
  {
   "cell_type": "code",
   "execution_count": 0,
   "metadata": {
    "application/vnd.databricks.v1+cell": {
     "cellMetadata": {},
     "inputWidgets": {},
     "nuid": "e9f05c59-08f0-4a1a-9efa-c8cb6f91c2e3",
     "showTitle": false,
     "tableResultSettingsMap": {},
     "title": ""
    }
   },
   "outputs": [],
   "source": [
    "@dlt.table\n",
    "def gold_stg_netflix_titles():\n",
    "        df=spark.readStream.format(\"delta\").load(\"abfss://silver@netflixproject306.dfs.core.windows.net/netflix_titles\")\n",
    "        return df"
   ]
  },
  {
   "cell_type": "code",
   "execution_count": 0,
   "metadata": {
    "application/vnd.databricks.v1+cell": {
     "cellMetadata": {},
     "inputWidgets": {},
     "nuid": "6d5197f7-0376-45c4-8f4b-512a54f9504b",
     "showTitle": false,
     "tableResultSettingsMap": {},
     "title": ""
    }
   },
   "outputs": [],
   "source": [
    "@dlt.table\n",
    "def gold_trans_netflix_titles():\n",
    "        df=spark.readStream.table(\"LIVE.gold_stg_netflix_titles\")\n",
    "        df.withColumn(\"new_flag\",df.lit(1))\n",
    "        return df"
   ]
  },
  {
   "cell_type": "code",
   "execution_count": 0,
   "metadata": {
    "application/vnd.databricks.v1+cell": {
     "cellMetadata": {},
     "inputWidgets": {},
     "nuid": "b3c73643-c2a5-4ab8-b4dc-fd2e1a135c9c",
     "showTitle": false,
     "tableResultSettingsMap": {},
     "title": ""
    }
   },
   "outputs": [],
   "source": [
    "masterdata_rules={\n",
    "    \"rule-1\":\"new_flag is NOT NULL\",\n",
    "    \"rule-2\":\"showid is NOT NULL\"\n",
    "}"
   ]
  },
  {
   "cell_type": "code",
   "execution_count": 0,
   "metadata": {
    "application/vnd.databricks.v1+cell": {
     "cellMetadata": {},
     "inputWidgets": {},
     "nuid": "ead9f986-f5fd-452a-8063-1311f0746208",
     "showTitle": false,
     "tableResultSettingsMap": {},
     "title": ""
    }
   },
   "outputs": [],
   "source": [
    "@dlt.table\n",
    "@dlt.expect_all_or_drop(masterdata_rules)\n",
    "def gold_netflix_titles():\n",
    "        df=spark.readStream.table(\"LIVE.gold_trans_netflix_titles\")\n",
    "        return df"
   ]
  }
 ],
 "metadata": {
  "application/vnd.databricks.v1+notebook": {
   "computePreferences": null,
   "dashboards": [],
   "environmentMetadata": {
    "base_environment": "",
    "environment_version": "2"
   },
   "language": "python",
   "notebookMetadata": {
    "pythonIndentUnit": 4
   },
   "notebookName": "DLT Table",
   "widgets": {}
  },
  "language_info": {
   "name": "python"
  }
 },
 "nbformat": 4,
 "nbformat_minor": 0
}